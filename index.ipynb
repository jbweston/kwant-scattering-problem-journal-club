{
 "cells": [
  {
   "cell_type": "markdown",
   "metadata": {
    "slideshow": {
     "slide_type": "slide"
    }
   },
   "source": [
    "# Diving deep into scattering problems with Kwant\n",
    "\n",
    "Slides adapted from https://github.com/jbweston/maryland-kwant-tutorial\n",
    "\n",
    "<br/>\n",
    "<footer>Joseph Weston – Coding Journal Club 2019</footer>\n"
   ]
  },
  {
   "cell_type": "markdown",
   "metadata": {
    "slideshow": {
     "slide_type": "slide"
    }
   },
   "source": [
    "# The Plan\n",
    "\n",
    "*I will assume that you are already familiar with Kwant*\n",
    "\n",
    "+ Define the 2 main equations that Kwant uses to solve the scattering problem\n",
    "    - Generalized eigenvalue problem for the lead modes\n",
    "    - Linear system (involving the lead modes) for the actual scattering matrix calculation\n",
    "+ Look closely at how Kwant calculates the lead modes\n",
    "    - Stabilization when the inter-cell hopping is singular\n",
    "    - Use of a Schur vector basis for the evanescent modes\n",
    "    - Use of symmetries"
   ]
  },
  {
   "cell_type": "markdown",
   "metadata": {
    "slideshow": {
     "slide_type": "slide"
    }
   },
   "source": [
    "# Setting up the Hamiltonian\n",
    "\n",
    "<div style=\"padding-top: 5%\">\n",
    "<img src=\"images/curve-system.png\" width=30% style=\"float: left\"></img>\n",
    "<div style=\"margin-right: 10%; float:right\">\n",
    "$$\n",
    "H = \n",
    "\\begin{pmatrix}\n",
    "H_s & P^T_s V_l^\\dagger & \\\\\n",
    "V_lP_s & H_l               & V_l^\\dagger \\\\\n",
    "    & V_l               & H_l & V_l^\\dagger \\\\\n",
    "    &                   &     &       & \\ddots\n",
    "\\end{pmatrix}\n",
    "$$\n",
    "    \n",
    "$$\\begin{align}\n",
    "&H_s: \\text{Scattering region Hamiltonian} \\\\\n",
    "&H_l: \\text{Lead(s) unit cell Hamiltonian} \\\\\n",
    "&V_l: \\text{Lead(s) inter-cell hopping Hamiltonian} \\\\\n",
    "\\end{align}$$\n",
    "</div>\n",
    "</div>"
   ]
  },
  {
   "cell_type": "markdown",
   "metadata": {
    "slideshow": {
     "slide_type": "slide"
    }
   },
   "source": [
    "# Solving Schrödinger equation for an ∞ tight-binding model\n",
    "\n",
    "1. Solve Schrödinger equation in the leads *first* (using Bloch's theorem)\n",
    "2. Match the solution in the scattering region\n",
    "\n",
    "$$\n",
    "\\begin{pmatrix}\n",
    "H_s & P^T_s V_l^\\dagger & \\\\\n",
    "V_lP_s & H_l               & V_l^\\dagger \\\\\n",
    "    & V_l               & H_l & V_l^\\dagger \\\\\n",
    "    &                   &     &       & \\ddots\n",
    "\\end{pmatrix}\n",
    "\\begin{pmatrix}\n",
    "ψ_s \\\\ ψ_1 \\\\ ψ_2 \\\\ \\vdots\n",
    "\\end{pmatrix}\n",
    "=\n",
    "E\n",
    "\\begin{pmatrix}\n",
    "ψ_s \\\\ ψ_1 \\\\ ψ_2 \\\\ \\vdots\n",
    "\\end{pmatrix}\n",
    "$$"
   ]
  },
  {
   "cell_type": "markdown",
   "metadata": {
    "slideshow": {
     "slide_type": "slide"
    }
   },
   "source": [
    "# Solving the Schrodinger equation in the leads"
   ]
  },
  {
   "cell_type": "markdown",
   "metadata": {
    "slideshow": {
     "slide_type": "subslide"
    }
   },
   "source": [
    "$$\n",
    "\\begin{pmatrix}\n",
    "   \\ddots &                   &     &       & \\\\\n",
    "V_l & H_l & V_l^\\dagger \\\\\n",
    "    & V_l               & H_l & V_l^\\dagger \\\\\n",
    "    &                   & V_l               & H_l & V_l^\\dagger \\\\\n",
    "    &                   &     &       & \\ddots \\\\\n",
    "\\end{pmatrix}\n",
    "\\begin{pmatrix}\n",
    "⋮ \\\\ ψ_{-1} \\\\ ψ_0 \\\\ ψ_1 \\\\ ⋮ \n",
    "\\end{pmatrix}\n",
    "=\n",
    "E\n",
    "\\begin{pmatrix}\n",
    "⋮ \\\\ ψ_{-1} \\\\ ψ_0 \\\\ ψ_1 \\\\ ⋮ \n",
    "\\end{pmatrix}\n",
    "$$"
   ]
  },
  {
   "cell_type": "markdown",
   "metadata": {
    "slideshow": {
     "slide_type": "subslide"
    }
   },
   "source": [
    "Use Bloch's theorem: $ψ_n = λ^n φ$\n",
    "\n",
    "$$\n",
    "\\begin{pmatrix}\n",
    "   \\ddots &                   &     &       & \\\\\n",
    "V_l & H_l & V_l^\\dagger \\\\\n",
    "    & V_l               & H_l & V_l^\\dagger \\\\\n",
    "    &                   & V_l               & H_l & V_l^\\dagger \\\\\n",
    "    &                   &     &       & \\ddots \\\\\n",
    "\\end{pmatrix}\n",
    "\\begin{pmatrix}\n",
    "⋮ \\\\ λ^{-1}φ \\\\ φ \\\\ λφ \\\\ ⋮ \n",
    "\\end{pmatrix}\n",
    "=\n",
    "E\n",
    "\\begin{pmatrix}\n",
    "⋮ \\\\ λ^{-1}φ \\\\ φ \\\\ λφ \\\\ ⋮ \n",
    "\\end{pmatrix}\n",
    "$$"
   ]
  },
  {
   "cell_type": "markdown",
   "metadata": {
    "slideshow": {
     "slide_type": "subslide"
    }
   },
   "source": [
    "Each row reduces to the following:\n",
    "\n",
    "$$\n",
    "V_l φ + λ(H_l - E)φ + λ^2V_l^\\daggerφ = 0\n",
    "$$\n",
    "\n",
    "A finite problem that we can solve!\n",
    "\n",
    "*Given* $E$, what are the corresponding $φ$'s and $λ$'s?\n",
    "\n",
    "**Quadratic eigenvalue problem in λ: what do?**"
   ]
  },
  {
   "cell_type": "markdown",
   "metadata": {
    "slideshow": {
     "slide_type": "subslide"
    }
   },
   "source": [
    "write: $ξ \\equiv λφ$, then\n",
    "\n",
    "<br/>\n",
    "\n",
    "$$\n",
    "\\begin{pmatrix}\n",
    "H_l - E & V_l^\\dagger \\\\ 1 & 0\n",
    "\\end{pmatrix}\n",
    "\\begin{pmatrix}\n",
    "φ \\\\ ξ\n",
    "\\end{pmatrix}\n",
    "=\n",
    "λ^{-1}\n",
    "\\begin{pmatrix}\n",
    "-V_l & 0 \\\\ 0 & 1\n",
    "\\end{pmatrix}\n",
    "\\begin{pmatrix}\n",
    "φ \\\\ ξ\n",
    "\\end{pmatrix}\n",
    "$$\n",
    "\n",
    "<br/>\n",
    "\n",
    "→ Generalized Eigenvalue Problem.\n",
    "\n",
    "<br/>"
   ]
  },
  {
   "cell_type": "markdown",
   "metadata": {
    "slideshow": {
     "slide_type": "subslide"
    }
   },
   "source": [
    "*propagating* modes: $|λ| = 1$ ; *evanescent* modes: $|λ| \\ne 1$\n",
    "\n",
    "*mode velocity*: $v = iφ^\\dagger[λV_l^\\dagger - λ^{-1}V_l]φ$\n",
    "\n",
    "$φ$'s then *normalized* to have unit velocity (current)\n",
    "\n",
    "Arbitrary state in unit cell $n$:\n",
    "\n",
    "$$\\hat{φ}_n = ΦΛ^nq$$\n",
    "\n",
    "$$\\begin{align}\n",
    "Φ: &\\text{matrix of mode wavefunctions ($φ$'s)} \\\\\n",
    "Λ: &\\text{diagonal matrix of eigenvalues} \\\\\n",
    "q: &\\text{column vector of mode amplitudes} \\\\\n",
    "\\end{align}$$"
   ]
  },
  {
   "cell_type": "markdown",
   "metadata": {
    "slideshow": {
     "slide_type": "slide"
    }
   },
   "source": [
    "# Solving the scattering problem"
   ]
  },
  {
   "cell_type": "markdown",
   "metadata": {
    "slideshow": {
     "slide_type": "subslide"
    }
   },
   "source": [
    "We still need to solve our original Schrödinger equation:\n",
    "\n",
    "$$\n",
    "\\begin{pmatrix}\n",
    "H_s & P^T_s V_l^\\dagger & \\\\\n",
    "V_lP_s & H_l               & V_l^\\dagger \\\\\n",
    "    & V_l               & H_l & V_l^\\dagger \\\\\n",
    "    &                   &     &       & \\ddots\n",
    "\\end{pmatrix}\n",
    "\\begin{pmatrix}\n",
    "ψ_s \\\\ ψ_1 \\\\ ψ_2 \\\\ \\vdots\n",
    "\\end{pmatrix}\n",
    "=\n",
    "E\n",
    "\\begin{pmatrix}\n",
    "ψ_s \\\\ ψ_1 \\\\ ψ_2 \\\\ \\vdots\n",
    "\\end{pmatrix}\n",
    "$$"
   ]
  },
  {
   "cell_type": "markdown",
   "metadata": {
    "slideshow": {
     "slide_type": "subslide"
    }
   },
   "source": [
    "Sub in our mode decomposition in the leads\n",
    "\n",
    "($Φ_{+}$: *outgoing* modes, $Φ_{p-}$ : *incoming propagating* modes)\n",
    "\n",
    "$$\n",
    "\\begin{pmatrix}\n",
    "(H_s - E) & P^T_s V_l^\\dagger & \\\\\n",
    "V_lP_s & (H_l - E)           & V_l^\\dagger \\\\\n",
    "    & V_l               & (H_l - E) & V_l^\\dagger \\\\\n",
    "    &                   &     &       & \\ddots\n",
    "\\end{pmatrix}\n",
    "\\begin{pmatrix}\n",
    "ψ_s \\\\ Φ_{+}Λ_{+}q_{+} + Φ_{p-}Λ_{p-}q_{p-} \\\\ Φ_{+}(Λ_{+})^2q_{+} + Φ_{p-}(Λ_{p-})^2q_{p-} \\\\\\vdots\n",
    "\\end{pmatrix}\n",
    "=\n",
    "0\n",
    "$$\n",
    "\n",
    "Rows 3 and onwards are trivially zero → reduces the problem to a finite one"
   ]
  },
  {
   "cell_type": "markdown",
   "metadata": {
    "slideshow": {
     "slide_type": "subslide"
    }
   },
   "source": [
    "$$\n",
    "\\begin{pmatrix}\n",
    "(H_s - E) & P^T_s V_l^\\dagger Φ_+ Λ_+ & P^T_s V_l^\\dagger Φ_{p-} Λ_{p-}\\\\\n",
    "V_lP_s & -V_l Φ_+ & -V_l Φ_{p-}\\\\\n",
    "\\end{pmatrix}\n",
    "\\begin{pmatrix}\n",
    "ψ_s \\\\ q_{+} \\\\ q_{p-}\n",
    "\\end{pmatrix}\n",
    "=\n",
    "0\n",
    "$$\n",
    "\n",
    "Finding all energy $E$ solutions → finding null space of left-hand side\n",
    "\n",
    "Ideally we would like a \"nice\" basis that will make it easy to do physics later\n",
    "\n",
    "Leads individually in thermal equilibrium → choose basis where *incoming mode occupation* is a good quantum number"
   ]
  },
  {
   "cell_type": "markdown",
   "metadata": {
    "slideshow": {
     "slide_type": "subslide"
    }
   },
   "source": [
    "\n",
    "Set $q_{p-} = \\begin{pmatrix} 1, & 0, & …\\end{pmatrix}^T$ so that $Φ_{p-}q_{p-} = φ_{-,0}$ and $Φ_{p-}Λ_{p-}q_{p-} = λ_{-,0}φ_{-,0}$\n",
    "\n",
    "$$\n",
    "\\begin{pmatrix}\n",
    "(H_s - E) & P^T_s V_l^\\dagger Φ_+ Λ_+ \\\\\n",
    "V_lP_s & -V_l Φ_+\\\\\n",
    "\\end{pmatrix}\n",
    "\\begin{pmatrix}\n",
    "ψ_s \\\\ q_{+}\n",
    "\\end{pmatrix}\n",
    "=\n",
    "\\begin{pmatrix}\n",
    "-P^T_s V_l^\\dagger φ_{-,0}\\,λ_{-,0} \\\\\n",
    "V_l φ_{-,0}\n",
    "\\end{pmatrix}\n",
    "$$\n",
    "\n",
    "Fully determined linear system to solve"
   ]
  },
  {
   "cell_type": "markdown",
   "metadata": {
    "slideshow": {
     "slide_type": "subslide"
    }
   },
   "source": [
    "A set of such linear systems: each injecting particles in a different incoming propagating mode\n",
    "\n",
    "Stack them together:\n",
    "\n",
    "\n",
    "$$\n",
    "\\begin{pmatrix}\n",
    "(H_s - E) & P^T_s V_l^\\dagger Φ_+ Λ_+ \\\\\n",
    "V_lP_s & -V_l Φ_+\\\\\n",
    "\\end{pmatrix}\n",
    "\\begin{pmatrix}\n",
    "Ψ_s \\\\ Q_{+}\n",
    "\\end{pmatrix}\n",
    "=\n",
    "\\begin{pmatrix}\n",
    "-P^T_s V_l^\\dagger Φ_{p-}Λ_{p-} \\\\\n",
    "V_l Φ_{p-}\n",
    "\\end{pmatrix}\n",
    "$$\n",
    "\n",
    "$Ψ_s$: matrix of **scattering wavefunctions** in the scattering region\n",
    "\n",
    "$Q_+$: **extended scattering matrix**, outgoing (propagating and evanescent) mode amplitudes\n",
    "\n",
    "$S$:   **scattering matrix**, submatrix of $Q_+$ that concerns the *propagating modes only*"
   ]
  },
  {
   "cell_type": "markdown",
   "metadata": {
    "slideshow": {
     "slide_type": "slide"
    }
   },
   "source": [
    "# The equations to solve\n",
    "\n",
    "$$\n",
    "\\begin{pmatrix}\n",
    "H_l - E & V_l^\\dagger \\\\ 1 & 0\n",
    "\\end{pmatrix}\n",
    "\\begin{pmatrix}\n",
    "φ \\\\ ξ\n",
    "\\end{pmatrix}\n",
    "=\n",
    "λ^{-1}\n",
    "\\begin{pmatrix}\n",
    "-V_l & 0 \\\\ 0 & 1\n",
    "\\end{pmatrix}\n",
    "\\begin{pmatrix}\n",
    "φ \\\\ ξ\n",
    "\\end{pmatrix}\n",
    "$$\n",
    "\n",
    "<br/>\n",
    "\n",
    "$$\n",
    "\\begin{pmatrix}\n",
    "(H_s - E) & P^T_s V_l^\\dagger Φ_+ Λ_+ \\\\\n",
    "V_lP_s & -V_l Φ_+\\\\\n",
    "\\end{pmatrix}\n",
    "\\begin{pmatrix}\n",
    "Ψ_s \\\\ Q_{+}\n",
    "\\end{pmatrix}\n",
    "=\n",
    "\\begin{pmatrix}\n",
    "-P^T_s V_l^\\dagger Φ_{p-}Λ_{p-} \\\\\n",
    "V_l Φ_{p-}\n",
    "\\end{pmatrix}\n",
    "$$\n"
   ]
  },
  {
   "cell_type": "markdown",
   "metadata": {
    "slideshow": {
     "slide_type": "slide"
    }
   },
   "source": [
    "# The mode problem\n",
    "\n",
    "$$\n",
    "\\begin{pmatrix}\n",
    "H_l - E & V_l^\\dagger \\\\ 1 & 0\n",
    "\\end{pmatrix}\n",
    "\\begin{pmatrix}\n",
    "φ \\\\ ξ\n",
    "\\end{pmatrix}\n",
    "=\n",
    "λ^{-1}\n",
    "\\begin{pmatrix}\n",
    "-V_l & 0 \\\\ 0 & 1\n",
    "\\end{pmatrix}\n",
    "\\begin{pmatrix}\n",
    "φ \\\\ ξ\n",
    "\\end{pmatrix}\n",
    "$$"
   ]
  },
  {
   "cell_type": "markdown",
   "metadata": {
    "slideshow": {
     "slide_type": "subslide"
    }
   },
   "source": [
    "## Case: $V_l$ is invertible\n",
    "\n",
    "multiply by the inverse of the RHS:\n",
    "\n",
    "$$\n",
    "\\begin{pmatrix}\n",
    "-V_l^{-1}(H_l - E) & -V_l^{-1}V_l^\\dagger \\\\ 1 & 0\n",
    "\\end{pmatrix}\n",
    "\\begin{pmatrix}\n",
    "φ \\\\ ξ\n",
    "\\end{pmatrix}\n",
    "=\n",
    "λ^{-1}\n",
    "\\begin{pmatrix}\n",
    "φ \\\\ ξ\n",
    "\\end{pmatrix}\n",
    "$$"
   ]
  },
  {
   "cell_type": "markdown",
   "metadata": {
    "slideshow": {
     "slide_type": "subslide"
    }
   },
   "source": [
    "Define\n",
    "\n",
    "$\n",
    "    V_l = AB^\\dagger\n",
    "    \\quad\\quad A = \\frac{V_l}{\\sqrt{\\lVert V_l\\rVert}}\n",
    "    \\quad\\quad B = \\sqrt{\\lVert V_l\\rVert}\n",
    "    \\quad\\quad \\bar{φ} = B^\\dagger φ\n",
    "    \\quad\\quad \\bar{ξ} = A^\\dagger ξ\n",
    "$\n",
    "\n",
    "Then we write the problem as\n",
    "\n",
    "$$\n",
    "\\begin{pmatrix}\n",
    "-A^{-1}(H_l - E)(B^\\dagger)^{-1} & -A^{-1}B \\\\\n",
    "A^\\dagger(B^\\dagger)^{-1} & 0\n",
    "\\end{pmatrix}\n",
    "\\begin{pmatrix}\n",
    "\\bar{φ} \\\\ \\bar{ξ}\n",
    "\\end{pmatrix}\n",
    "=\n",
    "λ^{-1}\n",
    "\\begin{pmatrix}\n",
    "\\bar{φ} \\\\ \\bar{ξ}\n",
    "\\end{pmatrix}\n",
    "$$\n",
    "\n",
    "**this** is the problem Kwant solves"
   ]
  },
  {
   "cell_type": "markdown",
   "metadata": {
    "slideshow": {
     "slide_type": "subslide"
    }
   },
   "source": [
    "\n",
    "<img src=\"images/kwant/modes-nonsingular.png\" width=50% style=\"float: left;\"/>\n",
    "\n",
    "<div style=\"float: left; max-width=0%; padding-left: 5%\">\n",
    "$$\n",
    "\\begin{pmatrix}\n",
    "-A^{-1}(H_l - E)(B^\\dagger)^{-1} & -A^{-1}B \\\\\n",
    "A^\\dagger(B^\\dagger)^{-1} & 0\n",
    "\\end{pmatrix}\n",
    "$$\n",
    "\n",
    "[here's the code](https://gitlab.kwant-project.org/kwant/kwant/blob/master/kwant/physics/leads.py#L270)\n",
    "</div>"
   ]
  },
  {
   "cell_type": "markdown",
   "metadata": {
    "slideshow": {
     "slide_type": "subslide"
    }
   },
   "source": [
    "## Case: $V_l$ is not invertible\n",
    "\n",
    "Define:\n",
    "\n",
    "$\n",
    "    V_l = USW^\\dagger\n",
    "    \\quad\\quad A = U \\sqrt{S}\n",
    "    \\quad\\quad B = W \\sqrt{S}\n",
    "    \\quad\\quad \\bar{φ} = B^\\dagger φ\n",
    "    \\quad\\quad \\bar{ξ} = A^\\dagger ξ\n",
    "$\n",
    "\n",
    "The first line of the GEVP is\n",
    "\n",
    "$$\n",
    "(H_l - E)φ = - B\\bar{ξ} -λ^{-1}A\\bar{φ}\n",
    "$$\n",
    "\n",
    "Now we add $i AA^\\daggerφ + i BB^\\daggerφ$ to both sides and invert the matrix on the LHS:\n",
    "\n",
    "$$\n",
    "φ = \n",
    "    \\underbrace{[H_l - E + iAA^\\dagger + iBB^\\dagger]^{-1}}_{\\bar{H_l}^{-1}}\n",
    "    (-B\\bar{ξ} -λ^{-1}A\\bar{φ} + iλ^{-1}A\\bar{ξ} + iB\\bar{φ})\n",
    "$$"
   ]
  },
  {
   "cell_type": "markdown",
   "metadata": {
    "slideshow": {
     "slide_type": "subslide"
    }
   },
   "source": [
    "Substitute this into the original GEVP and we get:\n",
    "\n",
    "$$\n",
    "\\begin{pmatrix}\n",
    "-iA^\\dagger \\bar{H_l}^{-1} B & A^\\dagger \\bar{H_l}^{-1} B \\\\\n",
    "1 - iB^\\dagger \\bar{H_l}^{-1} B & B^\\dagger \\bar{H_l}^{-1} B\n",
    "\\end{pmatrix}\n",
    "\\begin{pmatrix}\n",
    "\\bar{φ} \\\\ \\bar{ξ}\n",
    "\\end{pmatrix}\n",
    "=\n",
    "λ^{-1}\n",
    "\\begin{pmatrix}\n",
    "-A^\\dagger \\bar{H_l}^{-1} A & iA^\\dagger \\bar{H_l}^{-1} A - 1 \\\\\n",
    "-B^\\dagger \\bar{H_l}^{-1} A & iB^\\dagger \\bar{H_l}^{-1} A\n",
    "\\end{pmatrix}\n",
    "\\begin{pmatrix}\n",
    "\\bar{φ} \\\\ \\bar{ξ}\n",
    "\\end{pmatrix}\n",
    "$$\n",
    "\n",
    "If the RHS matrix is invertible then we apply it's inverse to the above equation, otherwise we leave it as a GEVP."
   ]
  },
  {
   "cell_type": "markdown",
   "metadata": {
    "slideshow": {
     "slide_type": "subslide"
    }
   },
   "source": [
    "<img src=\"images/kwant/modes-singular.png\" width=50% style=\"float: left;\"/>\n",
    "\n",
    "<div style=\"float: left; max-width=0%; padding-left: 5%\">\n",
    "\n",
    "$A$ → `u`\n",
    "\n",
    "$B$ → `v`\n",
    "\n",
    "$\\bar{H_l}^{-1} B$ → `kla.lu_solve(sol, v)`\n",
    "\n",
    "$\\bar{H_l}^{-1} A$ → `kla.lu_solve(sol, u)`\n",
    "\n",
    "$$\n",
    "\\begin{pmatrix}\n",
    "-iA^\\dagger \\bar{H_l}^{-1} B & A^\\dagger \\bar{H_l}^{-1} B \\\\\n",
    "1 - iB^\\dagger \\bar{H_l}^{-1} B & B^\\dagger \\bar{H_l}^{-1} B\n",
    "\\end{pmatrix}\n",
    "$$\n",
    "    \n",
    "$$\n",
    "\\begin{pmatrix}\n",
    "-A^\\dagger \\bar{H_l}^{-1} A & iA^\\dagger \\bar{H_l}^{-1} A - 1 \\\\\n",
    "-B^\\dagger \\bar{H_l}^{-1} A & iB^\\dagger \\bar{H_l}^{-1} A\n",
    "\\end{pmatrix}\n",
    "$$\n",
    "\n",
    "[Here's the code](https://gitlab.kwant-project.org/kwant/kwant/blob/master/kwant/physics/leads.py#L361)\n",
    "</div>"
   ]
  },
  {
   "cell_type": "markdown",
   "metadata": {
    "slideshow": {
     "slide_type": "subslide"
    }
   },
   "source": [
    "# Solving the GEVP\n",
    "\n",
    "Once we've built the appropriate eigenvalue or generalized eigenvalue problem we then need to solve it.\n",
    "\n",
    "The eigenproblem is not Hermitian, so the eigenvectors are typically not orthogonal.\n",
    "\n",
    "Instead we perform a (generalized) *Schur decomposition*.\n",
    "\n",
    "We need the actual eigenvectors for the propagating modes (so that the scattering matrix elements are meaningful), but we can leave the evanescent subspace as Schur vectors."
   ]
  },
  {
   "cell_type": "markdown",
   "metadata": {
    "slideshow": {
     "slide_type": "subslide"
    }
   },
   "source": [
    "<img src=\"images/kwant/modes-wavefunction-extraction.png\" width=50% style=\"float: left;\"/>\n",
    "\n",
    "<div style=\"float: left; padding-left: 5%\">\n",
    "    \n",
    "[Here's the code](https://gitlab.kwant-project.org/kwant/kwant/blob/master/kwant/physics/leads.py#L883)\n",
    "\n",
    "</div>"
   ]
  },
  {
   "cell_type": "markdown",
   "metadata": {
    "slideshow": {
     "slide_type": "subslide"
    }
   },
   "source": [
    "# Massaging the modes\n",
    "\n",
    "Post-processing of the propagating modes is still required\n",
    "\n",
    "+ modes with identical momentum need to be orthogonalized\n",
    "+ relate modes at Time Reversal Invariant Momenta by particle-hole symmetry\n",
    "+ relate modes with same velocity at opposite momenta by particle-hole symmetry\n",
    "+ relate modes at opposite momenta and velocity by time-reversal symmetry"
   ]
  },
  {
   "cell_type": "markdown",
   "metadata": {
    "slideshow": {
     "slide_type": "subslide"
    }
   },
   "source": [
    "\n",
    "<img src=\"images/kwant/modes-assembly.png\" width=50% style=\"float: left;\"/>\n",
    "\n",
    "<div style=\"max-width: 50%; float: left; padding-left: 5%\">\n",
    "    \n",
    "[Here's the code](https://gitlab.kwant-project.org/kwant/kwant/blob/master/kwant/physics/leads.py#L900)\n",
    "\n",
    "[Here's `make_proper_modes`](https://gitlab.kwant-project.org/kwant/kwant/blob/master/kwant/physics/leads.py#L616)\n",
    "\n",
    "`wavefunctions` → propagating modes in the tight-binding basis\n",
    "\n",
    "`vecs`($\\bar{φ}$) and `vecslmbdainv` ($\\bar{ξ}$) → *all* modes in the hopping SVD basis.\n",
    "\n",
    "These are used for solving the scattering problem\n",
    "\n",
    "</div>"
   ]
  },
  {
   "cell_type": "markdown",
   "metadata": {
    "slideshow": {
     "slide_type": "subslide"
    }
   },
   "source": [
    "# Massaging the modes\n",
    "\n",
    "Before we do *any* of the above we first transform the Hamiltonian into a basis that diagonalizes any conservation laws\n",
    "\n",
    "Then for each block we compute the modes.\n",
    "\n",
    "Any blocks that are related by symmetry also have their modes related by symmetry."
   ]
  },
  {
   "cell_type": "markdown",
   "metadata": {
    "slideshow": {
     "slide_type": "subslide"
    }
   },
   "source": [
    "\n",
    "<div style=\"max-width: 50%; float: left;\">\n",
    "    <img src=\"images/kwant/modes-basis-change.png\" width=100% style=\"float: left;\"/>\n",
    "    <img src=\"images/kwant/modes-hamiltonian-part.png\" width=100% style=\"float: left;\"/>\n",
    "    <img src=\"images/kwant/modes-block.png\" width=100% style=\"float: left;\"/>\n",
    "    <img src=\"images/kwant/modes-other-block.png\" width=100% style=\"float: left;\"/>\n",
    "</div>\n",
    "\n",
    "<div style=\"max-width: 50%; float: left; padding-left: 2%\">\n",
    "\n",
    "[Here's the code](https://gitlab.kwant-project.org/kwant/kwant/blob/master/kwant/physics/leads.py#L1053)\n",
    "\n",
    "\n",
    "</div>"
   ]
  },
  {
   "cell_type": "markdown",
   "metadata": {
    "slideshow": {
     "slide_type": "slide"
    }
   },
   "source": [
    "# The scattering problem\n",
    "\n",
    "$$\n",
    "\\begin{pmatrix}\n",
    "(H_s - E) & P^T_s V_l^\\dagger Φ_+ Λ_+ \\\\\n",
    "V_lP_s & -V_l Φ_+\\\\\n",
    "\\end{pmatrix}\n",
    "\\begin{pmatrix}\n",
    "Ψ_s \\\\ Q_{+}\n",
    "\\end{pmatrix}\n",
    "=\n",
    "\\begin{pmatrix}\n",
    "-P^T_s V_l^\\dagger Φ_{p-}Λ_{p-} \\\\\n",
    "V_l Φ_{p-}\n",
    "\\end{pmatrix}\n",
    "$$\n"
   ]
  },
  {
   "cell_type": "markdown",
   "metadata": {
    "slideshow": {
     "slide_type": "subslide"
    }
   },
   "source": [
    "Uses the stabilized modes of the leads. Rewrite using $V_l = AB^\\dagger$:\n",
    "\n",
    "$$\n",
    "\\begin{pmatrix}\n",
    "(H_s - E) & P^T_s BA^\\dagger Φ_+ Λ_+ \\\\\n",
    "AB^\\dagger P_s & -AB^\\dagger Φ_+\\\\\n",
    "\\end{pmatrix}\n",
    "\\begin{pmatrix}\n",
    "Ψ_s \\\\ Q_{+}\n",
    "\\end{pmatrix}\n",
    "=\n",
    "\\begin{pmatrix}\n",
    "-P^T_s BA^\\dagger Φ_{p-}Λ_{p-} \\\\\n",
    "AB^\\dagger Φ_{p-}\n",
    "\\end{pmatrix}\n",
    "$$\n"
   ]
  },
  {
   "cell_type": "markdown",
   "metadata": {
    "slideshow": {
     "slide_type": "subslide"
    }
   },
   "source": [
    "recall that $\\bar{Ξ} = A^\\dagger Φ Λ$ and $\\bar{Φ} = B^\\dagger Φ$\n",
    "\n",
    "$$\n",
    "\\begin{pmatrix}\n",
    "(H_s - E) & P^T_s B\\,\\bar{Ξ}_+ \\\\\n",
    "AB^\\dagger P_s & -A\\,\\bar{Φ}_+\\\\\n",
    "\\end{pmatrix}\n",
    "\\begin{pmatrix}\n",
    "Ψ_s \\\\ Q_{+}\n",
    "\\end{pmatrix}\n",
    "=\n",
    "\\begin{pmatrix}\n",
    "-P^T_s B\\,\\bar{Ξ}_{p-} \\\\\n",
    "A\\,\\bar{Φ}_{p-}\n",
    "\\end{pmatrix}\n",
    "$$\n"
   ]
  },
  {
   "cell_type": "markdown",
   "metadata": {
    "slideshow": {
     "slide_type": "subslide"
    }
   },
   "source": [
    "$A$ is injective, so it has a left inverse; apply this to the second row:\n",
    "\n",
    "$$\n",
    "\\begin{pmatrix}\n",
    "(H_s - E) & P^T_s B\\,\\bar{Ξ}_+ \\\\\n",
    "B^\\dagger P_s & -\\bar{Φ}_+\\\\\n",
    "\\end{pmatrix}\n",
    "\\begin{pmatrix}\n",
    "Ψ_s \\\\ Q_{+}\n",
    "\\end{pmatrix}\n",
    "=\n",
    "\\begin{pmatrix}\n",
    "-P^T_s B\\,\\bar{Ξ}_{p-} \\\\\n",
    "\\bar{Φ}_{p-}\n",
    "\\end{pmatrix}\n",
    "$$"
   ]
  },
  {
   "cell_type": "markdown",
   "metadata": {
    "slideshow": {
     "slide_type": "subslide"
    }
   },
   "source": [
    "\n",
    "<div style=\"max-width: 40%; float: left;\">\n",
    "    <img src=\"images/kwant/scattering-udef.png\" width=100%/>\n",
    "    <img src=\"images/kwant/scattering-uoutdef.png\" width=100%/>\n",
    "    <img src=\"images/kwant/scattering-linsys.png\" width=100%/>\n",
    "    <img src=\"images/kwant/scattering-linsys-input.png\" width=100%/>\n",
    "</div>\n",
    "\n",
    "<div style=\"max-width: 60%; float: left; padding-left: 2%;\">\n",
    "    \n",
    "[Here's the code](https://gitlab.kwant-project.org/kwant/kwant/blob/master/kwant/solvers/common.py#L223)\n",
    "\n",
    "$\\bar{Φ}$ → `ulinv`\n",
    "\n",
    "$\\bar{Ξ}$ → `u`\n",
    "\n",
    "$B$ → `svd_v`\n",
    "\n",
    "$P$ → `transf`\n",
    "\n",
    "$$\n",
    "\\begin{pmatrix}\n",
    "(H_s - E) & P^T_s B\\,\\bar{Ξ}_+ \\\\\n",
    "B^\\dagger P_s & -\\bar{Φ}_+\\\\\n",
    "\\end{pmatrix}\n",
    "\\quad\n",
    "\\begin{pmatrix}\n",
    "-P^T_s B\\,\\bar{Ξ}_{p-} \\\\\n",
    "\\bar{Φ}_{p-}\n",
    "\\end{pmatrix}\n",
    "$$\n",
    "</div>"
   ]
  }
 ],
 "metadata": {
  "celltoolbar": "Slideshow",
  "kernelspec": {
   "display_name": "Python (coding journal club)",
   "language": "python",
   "name": "myenv"
  },
  "language_info": {
   "codemirror_mode": {
    "name": "ipython",
    "version": 3
   },
   "file_extension": ".py",
   "mimetype": "text/x-python",
   "name": "python",
   "nbconvert_exporter": "python",
   "pygments_lexer": "ipython3",
   "version": "3.7.3"
  }
 },
 "nbformat": 4,
 "nbformat_minor": 2
}
